{
 "cells": [
  {
   "cell_type": "markdown",
   "metadata": {},
   "source": [
    "[卷軸](https://itw01.com/2PVHME3.html)"
   ]
  },
  {
   "cell_type": "code",
   "execution_count": 1,
   "metadata": {},
   "outputs": [
    {
     "ename": "SystemExit",
     "evalue": "0",
     "output_type": "error",
     "traceback": [
      "An exception has occurred, use %tb to see the full traceback.\n",
      "\u001b[1;31mSystemExit\u001b[0m\u001b[1;31m:\u001b[0m 0\n"
     ]
    },
    {
     "name": "stderr",
     "output_type": "stream",
     "text": [
      "C:\\Users\\user\\Anaconda3\\lib\\site-packages\\IPython\\core\\interactiveshell.py:2870: UserWarning: To exit: use 'exit', 'quit', or Ctrl-D.\n",
      "  warn(\"To exit: use 'exit', 'quit', or Ctrl-D.\", stacklevel=1)\n"
     ]
    }
   ],
   "source": [
    "import sys \n",
    "from PyQt5.QtCore import Qt \n",
    "from PyQt5.QtWidgets import (QWidget, QLCDNumber, QSlider, QVBoxLayout, QApplication) \n",
    "\n",
    "class SigSlot(QWidget): \n",
    "    def __init__(self,parent=None): \n",
    "        QWidget.__init__(self) \n",
    "        self.setWindowTitle('XXOO') \n",
    "        lcd = QLCDNumber(self) \n",
    "        slider = QSlider(Qt.Horizontal,self) \n",
    "        \n",
    "        vbox = QVBoxLayout() \n",
    "        vbox.addWidget(lcd) \n",
    "        vbox.addWidget(slider) \n",
    "        \n",
    "        self.setLayout(vbox) \n",
    "        \n",
    "        slider.valueChanged.connect(lcd.display) \n",
    "        self.resize(350,250) \n",
    "     \n",
    "    \n",
    "app = QApplication(sys.argv) \n",
    "qb = SigSlot() \n",
    "qb.show() \n",
    "sys.exit(app.exec_())"
   ]
  },
  {
   "cell_type": "code",
   "execution_count": null,
   "metadata": {
    "collapsed": true
   },
   "outputs": [],
   "source": []
  }
 ],
 "metadata": {
  "kernelspec": {
   "display_name": "Python 3",
   "language": "python",
   "name": "python3"
  },
  "language_info": {
   "codemirror_mode": {
    "name": "ipython",
    "version": 3
   },
   "file_extension": ".py",
   "mimetype": "text/x-python",
   "name": "python",
   "nbconvert_exporter": "python",
   "pygments_lexer": "ipython3",
   "version": "3.6.3"
  }
 },
 "nbformat": 4,
 "nbformat_minor": 2
}
