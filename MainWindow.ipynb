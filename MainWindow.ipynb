{
 "cells": [
  {
   "cell_type": "code",
   "execution_count": 1,
   "metadata": {},
   "outputs": [
    {
     "ename": "SystemExit",
     "evalue": "0",
     "output_type": "error",
     "traceback": [
      "An exception has occurred, use %tb to see the full traceback.\n",
      "\u001b[1;31mSystemExit\u001b[0m\u001b[1;31m:\u001b[0m 0\n"
     ]
    },
    {
     "name": "stderr",
     "output_type": "stream",
     "text": [
      "C:\\Users\\user\\Anaconda3\\lib\\site-packages\\IPython\\core\\interactiveshell.py:2870: UserWarning: To exit: use 'exit', 'quit', or Ctrl-D.\n",
      "  warn(\"To exit: use 'exit', 'quit', or Ctrl-D.\", stacklevel=1)\n"
     ]
    }
   ],
   "source": [
    "# -*- coding: utf-8 -*-\n",
    "\n",
    "import sys\n",
    "from PyQt5.QtWidgets import QApplication , QMainWindow\n",
    "from untitled import Ui_MainWindow\n",
    "\n",
    "class MainWindow(QMainWindow, Ui_MainWindow):\n",
    "    def __init__(self, parent=None):    \n",
    "        super(MainWindow, self).__init__(parent)\n",
    "        self.setupUi(self)\n",
    "        \n",
    "    def calculator(self):\n",
    "        ans = eval(self.lineEdit_1.text())*eval(self.lineEdit_22.text())*eval(self.lineEdit_33.text())\\\n",
    "        +eval(self.lineEdit_2.text())*eval(self.lineEdit_23.text())*eval(self.lineEdit_31.text())\\\n",
    "        +eval(self.lineEdit_3.text())*eval(self.lineEdit_21.text())*eval(self.lineEdit_32.text())\\\n",
    "        -eval(self.lineEdit_3.text())*eval(self.lineEdit_22.text())*eval(self.lineEdit_31.text())\\\n",
    "        -eval(self.lineEdit_2.text())*eval(self.lineEdit_21.text())*eval(self.lineEdit_33.text())\\\n",
    "        -eval(self.lineEdit_1.text())*eval(self.lineEdit_23.text())*eval(self.lineEdit_32.text())\n",
    "        self.lineEdit_answer.setText(str(ans))\n",
    "        \n",
    "if __name__==\"__main__\":  \n",
    "    app = QApplication(sys.argv)  \n",
    "    win = MainWindow()  \n",
    "    win.show()  \n",
    "    sys.exit(app.exec_()) "
   ]
  },
  {
   "cell_type": "code",
   "execution_count": null,
   "metadata": {
    "collapsed": true
   },
   "outputs": [],
   "source": []
  }
 ],
 "metadata": {
  "kernelspec": {
   "display_name": "Python 3",
   "language": "python",
   "name": "python3"
  }
 },
 "nbformat": 4,
 "nbformat_minor": 2
}
