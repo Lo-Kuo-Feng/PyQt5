{
 "cells": [
  {
   "cell_type": "code",
   "execution_count": 1,
   "metadata": {},
   "outputs": [
    {
     "ename": "SystemExit",
     "evalue": "0",
     "output_type": "error",
     "traceback": [
      "An exception has occurred, use %tb to see the full traceback.\n",
      "\u001b[1;31mSystemExit\u001b[0m\u001b[1;31m:\u001b[0m 0\n"
     ]
    },
    {
     "name": "stderr",
     "output_type": "stream",
     "text": [
      "C:\\Users\\user\\Anaconda3\\lib\\site-packages\\IPython\\core\\interactiveshell.py:2870: UserWarning: To exit: use 'exit', 'quit', or Ctrl-D.\n",
      "  warn(\"To exit: use 'exit', 'quit', or Ctrl-D.\", stacklevel=1)\n"
     ]
    }
   ],
   "source": [
    "# -*- coding: utf-8 -*-\n",
    "import sys\n",
    "from PyQt5.QtWidgets import QApplication, QMainWindow, qApp\n",
    "from ga import Ui_MainWindow\n",
    "import pandas as pd\n",
    "from PyQt5.QtCore import QCoreApplication\n",
    "from PyQt5 import QtWidgets, QtGui\n",
    "\n",
    "class MainWindow(QMainWindow, Ui_MainWindow):\n",
    "    def __init__(self, parent=None):    \n",
    "        super(MainWindow, self).__init__(parent)\n",
    "        self.setupUi(self)\n",
    "        self.setWindowIcon(QtGui.QIcon('logo.ico'))\n",
    "#         self.actionExit.triggered.connect(self.close)\n",
    "        self.statusBar().showMessage('Ready')\n",
    "        \n",
    "    def inputdata(self):\n",
    "        read = pd.read_excel(\"data.xlsx\")\n",
    "        self.textBrowser_show.append(str(read.values))\n",
    "        \n",
    "    def close(self):\n",
    "#         QCoreApplication.instance().quit\n",
    "#         QApplication.quit\n",
    "#         qApp.quit\n",
    "#         qApp.quit()\n",
    "        pass\n",
    "\n",
    "if __name__==\"__main__\":\n",
    "    app = QApplication(sys.argv)\n",
    "    win = MainWindow()\n",
    "    win.show()\n",
    "    sys.exit(app.exec_())"
   ]
  }
 ],
 "metadata": {
  "kernelspec": {
   "display_name": "Python 3",
   "language": "python",
   "name": "python3"
  }
 },
 "nbformat": 4,
 "nbformat_minor": 2
}
