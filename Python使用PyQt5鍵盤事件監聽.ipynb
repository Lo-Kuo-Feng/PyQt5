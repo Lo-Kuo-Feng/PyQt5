{
 "cells": [
  {
   "cell_type": "markdown",
   "metadata": {},
   "source": [
    "[Python使用PyQt5键盘事件监听](http://www.newsoftedu.com/it/IOS/653.html)"
   ]
  },
  {
   "cell_type": "code",
   "execution_count": 1,
   "metadata": {},
   "outputs": [
    {
     "name": "stdout",
     "output_type": "stream",
     "text": [
      "鼠标左键点击\n",
      "鼠标左键点击\n",
      "鼠标右键点击\n",
      "按下：65\n",
      "测试：A\n",
      "按下：83\n",
      "按下：83\n",
      "按下：68\n",
      "按下：68\n",
      "按下：83\n",
      "按下：67\n",
      "按下：68\n",
      "按下：83\n",
      "按下：65\n",
      "测试：A\n",
      "按下：86\n",
      "按下：70\n",
      "按下：68\n",
      "按下：65\n",
      "测试：A\n",
      "按下：86\n",
      "按下：70\n",
      "按下：70\n",
      "按下：70\n",
      "按下：67\n",
      "按下：68\n",
      "按下：83\n",
      "按下：65\n",
      "测试：A\n"
     ]
    },
    {
     "ename": "SystemExit",
     "evalue": "0",
     "output_type": "error",
     "traceback": [
      "An exception has occurred, use %tb to see the full traceback.\n",
      "\u001b[1;31mSystemExit\u001b[0m\u001b[1;31m:\u001b[0m 0\n"
     ]
    },
    {
     "name": "stderr",
     "output_type": "stream",
     "text": [
      "C:\\Users\\user\\Anaconda3\\lib\\site-packages\\IPython\\core\\interactiveshell.py:2870: UserWarning: To exit: use 'exit', 'quit', or Ctrl-D.\n",
      "  warn(\"To exit: use 'exit', 'quit', or Ctrl-D.\", stacklevel=1)\n"
     ]
    }
   ],
   "source": [
    "import sys\n",
    "from PyQt5.QtWidgets import QApplication,QWidget\n",
    "from PyQt5 import QtCore\n",
    "from PyQt5.QtCore import *\n",
    "\n",
    "class Window(QWidget):\n",
    "    def __init__(self):\n",
    "        super().__init__()\n",
    "        self.initUI()\n",
    "\n",
    "    def initUI(self):\n",
    "        self.setGeometry(300, 300, 300, 200)\n",
    "        self.setFixedWidth(300)\n",
    "        self.setFixedHeight(200)\n",
    "        self.setWindowTitle('按键检测')\n",
    "        self.show()\n",
    "    # 检测键盘回车按键\n",
    "    def keyPressEvent(self, event):\n",
    "        print(\"按下：\" + str(event.key()))\n",
    "        # 举例\n",
    "        if(event.key() == Qt.Key_Escape):\n",
    "            print('测试：ESC')\n",
    "        if(event.key() == Qt.Key_A):\n",
    "            print('测试：A')\n",
    "        if(event.key() == Qt.Key_1):\n",
    "            print('测试：1')\n",
    "        if(event.key() == Qt.Key_Enter):\n",
    "            print('测试：Enter')\n",
    "        if(event.key() == Qt.Key_Space):\n",
    "            print('测试：Space')\n",
    "\n",
    "    def mousePressEvent(self, event):\n",
    "        if event.button() == Qt.LeftButton:\n",
    "            print(\"鼠标左键点击\")\n",
    "        elif event.button() == Qt.RightButton:\n",
    "            print(\"鼠标右键点击\")\n",
    "        elif event.button() == Qt.MidButton:\n",
    "            print(\"鼠标中键点击\")\n",
    "\n",
    "if __name__ == '__main__':\n",
    "    app = QApplication(sys.argv)\n",
    "    window = Window()\n",
    "    sys.exit(app.exec_())"
   ]
  },
  {
   "cell_type": "code",
   "execution_count": null,
   "metadata": {
    "collapsed": true
   },
   "outputs": [],
   "source": []
  }
 ],
 "metadata": {
  "kernelspec": {
   "display_name": "Python 3",
   "language": "python",
   "name": "python3"
  },
  "language_info": {
   "codemirror_mode": {
    "name": "ipython",
    "version": 3
   },
   "file_extension": ".py",
   "mimetype": "text/x-python",
   "name": "python",
   "nbconvert_exporter": "python",
   "pygments_lexer": "ipython3",
   "version": "3.6.3"
  }
 },
 "nbformat": 4,
 "nbformat_minor": 2
}
