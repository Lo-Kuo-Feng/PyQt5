{
 "cells": [
  {
   "cell_type": "code",
   "execution_count": 1,
   "metadata": {
    "scrolled": true
   },
   "outputs": [
    {
     "ename": "SystemExit",
     "evalue": "0",
     "output_type": "error",
     "traceback": [
      "An exception has occurred, use %tb to see the full traceback.\n",
      "\u001b[1;31mSystemExit\u001b[0m\u001b[1;31m:\u001b[0m 0\n"
     ]
    },
    {
     "name": "stderr",
     "output_type": "stream",
     "text": [
      "C:\\Users\\user\\Anaconda3\\lib\\site-packages\\IPython\\core\\interactiveshell.py:2870: UserWarning: To exit: use 'exit', 'quit', or Ctrl-D.\n",
      "  warn(\"To exit: use 'exit', 'quit', or Ctrl-D.\", stacklevel=1)\n"
     ]
    }
   ],
   "source": [
    "\n",
    "import numpy as np\n",
    "import sys\n",
    "import os\n",
    "import cv2\n",
    "from PyQt5 import QtCore, QtGui, QtWidgets\n",
    "from opencvui import Ui_MainWindow\n",
    "from PyQt5.QtGui import QImage, QPixmap\n",
    "from PyQt5.QtWidgets import (QApplication, QMainWindow, QDialog, QFileDialog, QGridLayout,\n",
    "                             QLabel, QPushButton)\n",
    "\n",
    "class MainWindow(QMainWindow, Ui_MainWindow):\n",
    "    def __init__(self, parent=None):    \n",
    "        super(MainWindow, self).__init__(parent)\n",
    "        self.setupUi(self)\n",
    "        self.timer_camera = QtCore.QTimer()  # 初始化定時器\n",
    "        self.cap = cv2.VideoCapture()  # 初始化攝像頭\n",
    "        self.CAM_NUM = 0\n",
    "        self.slot_init()\n",
    "        self.__flag_work = 0\n",
    "        self.x = 0\n",
    "        self.count = 0\n",
    "        \n",
    "    def slot_init(self):  # 建立通信連接\n",
    "        self.button_open_camera.clicked.connect(self.button_open_camera_click)\n",
    "        self.timer_camera.timeout.connect(self.show_camera)\n",
    "        self.button_close.clicked.connect(self.close)\n",
    "\n",
    "    def button_open_camera_click(self):\n",
    "        if self.timer_camera.isActive() == False:\n",
    "            flag = self.cap.open(self.CAM_NUM)\n",
    "            if flag == False:\n",
    "                msg = QtWidgets.QMessageBox.Warning(self, u'Warning', u'請檢測相機與電腦是否連接正確',\n",
    "                                                    buttons=QtWidgets.QMessageBox.Ok,\n",
    "                                                    defaultButton=QtWidgets.QMessageBox.Ok)\n",
    "                # if msg==QtGui.QMessageBox.Cancel:\n",
    "                #                     pass\n",
    "            else:\n",
    "                self.timer_camera.start(30)\n",
    "                self.button_open_camera.setText(u'close camera')\n",
    "        else:\n",
    "            self.timer_camera.stop()\n",
    "            self.cap.release()\n",
    "            self.label_show_camera.clear()\n",
    "            self.button_open_camera.setText(u'open camera')\n",
    "\n",
    "    def show_camera(self):\n",
    "        flag, self.image = self.cap.read()\n",
    "        show = cv2.resize(self.image, (640, 480))\n",
    "        show = cv2.cvtColor(show, cv2.COLOR_BGR2RGB)\n",
    "        showImage = QtGui.QImage(show.data, show.shape[1], show.shape[0], QtGui.QImage.Format_RGB888)\n",
    "        self.label_show_camera.setPixmap(QtGui.QPixmap.fromImage(showImage))\n",
    "\n",
    "    def closeEvent(self, event):\n",
    "        ok = QtWidgets.QPushButton()\n",
    "        cancel = QtWidgets.QPushButton()\n",
    "        msg = QtWidgets.QMessageBox(QtWidgets.QMessageBox.Warning, u'關閉', u'是否關閉！')\n",
    "        msg.addButton(ok, QtWidgets.QMessageBox.ActionRole)\n",
    "        msg.addButton(cancel, QtWidgets.QMessageBox.RejectRole)\n",
    "        ok.setText(u'確定')\n",
    "        cancel.setText(u'取消')\n",
    "        if msg.exec_() == QtWidgets.QMessageBox.RejectRole:\n",
    "            event.ignore()\n",
    "        else:\n",
    "            if self.cap.isOpened():\n",
    "                self.cap.release()\n",
    "            if self.timer_camera.isActive():\n",
    "                self.timer_camera.stop()\n",
    "            event.accept()\n",
    "        \n",
    "if __name__==\"__main__\":  \n",
    "    app = QApplication(sys.argv)  \n",
    "    win = MainWindow()  \n",
    "    win.show()  \n",
    "    sys.exit(app.exec_()) "
   ]
  },
  {
   "cell_type": "code",
   "execution_count": null,
   "metadata": {
    "collapsed": true
   },
   "outputs": [],
   "source": [
    "                                "
   ]
  }
 ],
 "metadata": {
  "kernelspec": {
   "display_name": "Python 3",
   "language": "python",
   "name": "python3"
  }
 },
 "nbformat": 4,
 "nbformat_minor": 2
}
